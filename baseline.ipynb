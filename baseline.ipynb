{
  "nbformat": 4,
  "nbformat_minor": 0,
  "metadata": {
    "colab": {
      "provenance": [],
      "authorship_tag": "ABX9TyNRk8iyLzCUYceTWHGpYQ1G",
      "include_colab_link": true
    },
    "kernelspec": {
      "name": "python3",
      "display_name": "Python 3"
    },
    "language_info": {
      "name": "python"
    },
    "gpuClass": "standard"
  },
  "cells": [
    {
      "cell_type": "markdown",
      "metadata": {
        "id": "view-in-github",
        "colab_type": "text"
      },
      "source": [
        "<a href=\"https://colab.research.google.com/github/NagaoTadashi/Ledge-recommend/blob/main/baseline.ipynb\" target=\"_parent\"><img src=\"https://colab.research.google.com/assets/colab-badge.svg\" alt=\"Open In Colab\"/></a>"
      ]
    },
    {
      "cell_type": "code",
      "source": [
        "!pip install gensim==4.0.1"
      ],
      "metadata": {
        "id": "-aQ21l8xNA0u"
      },
      "execution_count": null,
      "outputs": []
    },
    {
      "cell_type": "code",
      "source": [
        "import pandas as pd\n",
        "import numpy as np\n",
        "import matplotlib.pyplot as plt\n",
        "import seaborn as sns"
      ],
      "metadata": {
        "id": "wD8MPs2r7FQx"
      },
      "execution_count": 100,
      "outputs": []
    },
    {
      "cell_type": "code",
      "source": [
        "!wget -nc --no-check-certificate https://files.grouplens.org/datasets/movielens/ml-10m.zip -P ../data\n",
        "!unzip -n ../data/ml-10m.zip -d ../data/"
      ],
      "metadata": {
        "id": "ROKG-HGX7FKz",
        "colab": {
          "base_uri": "https://localhost:8080/"
        },
        "outputId": "83817bd2-cd0c-4a8f-b862-7887b3a9d270"
      },
      "execution_count": 101,
      "outputs": [
        {
          "output_type": "stream",
          "name": "stdout",
          "text": [
            "File ‘../data/ml-10m.zip’ already there; not retrieving.\n",
            "\n",
            "Archive:  ../data/ml-10m.zip\n"
          ]
        }
      ]
    },
    {
      "cell_type": "markdown",
      "source": [
        "映画情報"
      ],
      "metadata": {
        "id": "4zvvtzJtmrTM"
      }
    },
    {
      "cell_type": "code",
      "source": [
        "m_cols = ['movie_id', 'title', 'genre']\n",
        "movies = pd.read_csv('../data/ml-10M100K/movies.dat', names=m_cols, sep='::' , encoding='latin-1', engine='python')"
      ],
      "metadata": {
        "id": "MT4nonOx7FH8"
      },
      "execution_count": 102,
      "outputs": []
    },
    {
      "cell_type": "code",
      "source": [
        "# genreをlist形式で保持する\n",
        "movies['genre'] = movies.genre.apply(lambda x:x.split('|'))"
      ],
      "metadata": {
        "id": "e7VKNtWWJHle"
      },
      "execution_count": 103,
      "outputs": []
    },
    {
      "cell_type": "markdown",
      "source": [
        "タグ情報"
      ],
      "metadata": {
        "id": "P3mhQAngCFoZ"
      }
    },
    {
      "cell_type": "code",
      "source": [
        "t_cols = ['user_id', 'movie_id', 'tag', 'timestamp']\n",
        "user_tagged_movies = pd.read_csv('../data/ml-10M100K/tags.dat', names=t_cols, sep='::', engine='python')"
      ],
      "metadata": {
        "id": "8JfSzWmPCE4R"
      },
      "execution_count": 104,
      "outputs": []
    },
    {
      "cell_type": "code",
      "source": [
        "# tagを小文字にする\n",
        "user_tagged_movies['tag'] = user_tagged_movies['tag'].str.lower()"
      ],
      "metadata": {
        "id": "uPLvDJ9sJUZm"
      },
      "execution_count": 105,
      "outputs": []
    },
    {
      "cell_type": "code",
      "source": [
        "# tagを映画ごとにlist形式で保持する\n",
        "movie_tags = user_tagged_movies.groupby('movie_id').agg({'tag':list})"
      ],
      "metadata": {
        "id": "nXKR6VD7JXcl"
      },
      "execution_count": 106,
      "outputs": []
    },
    {
      "cell_type": "code",
      "source": [
        "# タグ情報を結合する\n",
        "movies = movies.merge(movie_tags, on='movie_id', how='left')"
      ],
      "metadata": {
        "id": "82VjS8f7JXXq"
      },
      "execution_count": 107,
      "outputs": []
    },
    {
      "cell_type": "markdown",
      "source": [
        "学習データの作成"
      ],
      "metadata": {
        "id": "p76eg8lnJ1mb"
      }
    },
    {
      "cell_type": "code",
      "source": [
        "# tagが付与されていない映画もあるが、genreはすべての映画に付与されている\n",
        "# tagとgenreを結合したものを映画のコンテンツ情報として似ている映画を探して推薦していく\n",
        "# tagがない映画に関しては、NaNになっているので、空のリストに変換してから処理をする\n",
        "movies[\"tag_genre\"] = movies[\"tag\"].fillna(\"\").apply(list) + movies[\"genre\"].apply(list)\n",
        "movies[\"tag_genre\"] = movies[\"tag_genre\"].apply(lambda x: list(map(str, x)))"
      ],
      "metadata": {
        "id": "7HMAlx5PJXUx"
      },
      "execution_count": 108,
      "outputs": []
    },
    {
      "cell_type": "code",
      "source": [
        "movies.head()"
      ],
      "metadata": {
        "colab": {
          "base_uri": "https://localhost:8080/",
          "height": 389
        },
        "id": "jonW5Gk9MnKM",
        "outputId": "61fbd97f-5210-4f1f-f94a-f5e836edc7ea"
      },
      "execution_count": 111,
      "outputs": [
        {
          "output_type": "execute_result",
          "data": {
            "text/plain": [
              "   movie_id                               title  \\\n",
              "0         1                    Toy Story (1995)   \n",
              "1         2                      Jumanji (1995)   \n",
              "2         3             Grumpier Old Men (1995)   \n",
              "3         4            Waiting to Exhale (1995)   \n",
              "4         5  Father of the Bride Part II (1995)   \n",
              "\n",
              "                                               genre  \\\n",
              "0  [Adventure, Animation, Children, Comedy, Fantasy]   \n",
              "1                     [Adventure, Children, Fantasy]   \n",
              "2                                  [Comedy, Romance]   \n",
              "3                           [Comedy, Drama, Romance]   \n",
              "4                                           [Comedy]   \n",
              "\n",
              "                                                 tag  \\\n",
              "0  [pixar, pixar, pixar, animation, pixar, animat...   \n",
              "1  [for children, game, animals, joe johnston, ro...   \n",
              "2  [funniest movies, comedinha de velhinhos engra...   \n",
              "3                                       [girl movie]   \n",
              "4  [steve martin, pregnancy, remake, steve martin...   \n",
              "\n",
              "                                           tag_genre  \n",
              "0  [pixar, pixar, pixar, animation, pixar, animat...  \n",
              "1  [for children, game, animals, joe johnston, ro...  \n",
              "2  [funniest movies, comedinha de velhinhos engra...  \n",
              "3               [girl movie, Comedy, Drama, Romance]  \n",
              "4  [steve martin, pregnancy, remake, steve martin...  "
            ],
            "text/html": [
              "\n",
              "  <div id=\"df-f844c5fd-75c0-4ce8-a584-902cd131f061\">\n",
              "    <div class=\"colab-df-container\">\n",
              "      <div>\n",
              "<style scoped>\n",
              "    .dataframe tbody tr th:only-of-type {\n",
              "        vertical-align: middle;\n",
              "    }\n",
              "\n",
              "    .dataframe tbody tr th {\n",
              "        vertical-align: top;\n",
              "    }\n",
              "\n",
              "    .dataframe thead th {\n",
              "        text-align: right;\n",
              "    }\n",
              "</style>\n",
              "<table border=\"1\" class=\"dataframe\">\n",
              "  <thead>\n",
              "    <tr style=\"text-align: right;\">\n",
              "      <th></th>\n",
              "      <th>movie_id</th>\n",
              "      <th>title</th>\n",
              "      <th>genre</th>\n",
              "      <th>tag</th>\n",
              "      <th>tag_genre</th>\n",
              "    </tr>\n",
              "  </thead>\n",
              "  <tbody>\n",
              "    <tr>\n",
              "      <th>0</th>\n",
              "      <td>1</td>\n",
              "      <td>Toy Story (1995)</td>\n",
              "      <td>[Adventure, Animation, Children, Comedy, Fantasy]</td>\n",
              "      <td>[pixar, pixar, pixar, animation, pixar, animat...</td>\n",
              "      <td>[pixar, pixar, pixar, animation, pixar, animat...</td>\n",
              "    </tr>\n",
              "    <tr>\n",
              "      <th>1</th>\n",
              "      <td>2</td>\n",
              "      <td>Jumanji (1995)</td>\n",
              "      <td>[Adventure, Children, Fantasy]</td>\n",
              "      <td>[for children, game, animals, joe johnston, ro...</td>\n",
              "      <td>[for children, game, animals, joe johnston, ro...</td>\n",
              "    </tr>\n",
              "    <tr>\n",
              "      <th>2</th>\n",
              "      <td>3</td>\n",
              "      <td>Grumpier Old Men (1995)</td>\n",
              "      <td>[Comedy, Romance]</td>\n",
              "      <td>[funniest movies, comedinha de velhinhos engra...</td>\n",
              "      <td>[funniest movies, comedinha de velhinhos engra...</td>\n",
              "    </tr>\n",
              "    <tr>\n",
              "      <th>3</th>\n",
              "      <td>4</td>\n",
              "      <td>Waiting to Exhale (1995)</td>\n",
              "      <td>[Comedy, Drama, Romance]</td>\n",
              "      <td>[girl movie]</td>\n",
              "      <td>[girl movie, Comedy, Drama, Romance]</td>\n",
              "    </tr>\n",
              "    <tr>\n",
              "      <th>4</th>\n",
              "      <td>5</td>\n",
              "      <td>Father of the Bride Part II (1995)</td>\n",
              "      <td>[Comedy]</td>\n",
              "      <td>[steve martin, pregnancy, remake, steve martin...</td>\n",
              "      <td>[steve martin, pregnancy, remake, steve martin...</td>\n",
              "    </tr>\n",
              "  </tbody>\n",
              "</table>\n",
              "</div>\n",
              "      <button class=\"colab-df-convert\" onclick=\"convertToInteractive('df-f844c5fd-75c0-4ce8-a584-902cd131f061')\"\n",
              "              title=\"Convert this dataframe to an interactive table.\"\n",
              "              style=\"display:none;\">\n",
              "        \n",
              "  <svg xmlns=\"http://www.w3.org/2000/svg\" height=\"24px\"viewBox=\"0 0 24 24\"\n",
              "       width=\"24px\">\n",
              "    <path d=\"M0 0h24v24H0V0z\" fill=\"none\"/>\n",
              "    <path d=\"M18.56 5.44l.94 2.06.94-2.06 2.06-.94-2.06-.94-.94-2.06-.94 2.06-2.06.94zm-11 1L8.5 8.5l.94-2.06 2.06-.94-2.06-.94L8.5 2.5l-.94 2.06-2.06.94zm10 10l.94 2.06.94-2.06 2.06-.94-2.06-.94-.94-2.06-.94 2.06-2.06.94z\"/><path d=\"M17.41 7.96l-1.37-1.37c-.4-.4-.92-.59-1.43-.59-.52 0-1.04.2-1.43.59L10.3 9.45l-7.72 7.72c-.78.78-.78 2.05 0 2.83L4 21.41c.39.39.9.59 1.41.59.51 0 1.02-.2 1.41-.59l7.78-7.78 2.81-2.81c.8-.78.8-2.07 0-2.86zM5.41 20L4 18.59l7.72-7.72 1.47 1.35L5.41 20z\"/>\n",
              "  </svg>\n",
              "      </button>\n",
              "      \n",
              "  <style>\n",
              "    .colab-df-container {\n",
              "      display:flex;\n",
              "      flex-wrap:wrap;\n",
              "      gap: 12px;\n",
              "    }\n",
              "\n",
              "    .colab-df-convert {\n",
              "      background-color: #E8F0FE;\n",
              "      border: none;\n",
              "      border-radius: 50%;\n",
              "      cursor: pointer;\n",
              "      display: none;\n",
              "      fill: #1967D2;\n",
              "      height: 32px;\n",
              "      padding: 0 0 0 0;\n",
              "      width: 32px;\n",
              "    }\n",
              "\n",
              "    .colab-df-convert:hover {\n",
              "      background-color: #E2EBFA;\n",
              "      box-shadow: 0px 1px 2px rgba(60, 64, 67, 0.3), 0px 1px 3px 1px rgba(60, 64, 67, 0.15);\n",
              "      fill: #174EA6;\n",
              "    }\n",
              "\n",
              "    [theme=dark] .colab-df-convert {\n",
              "      background-color: #3B4455;\n",
              "      fill: #D2E3FC;\n",
              "    }\n",
              "\n",
              "    [theme=dark] .colab-df-convert:hover {\n",
              "      background-color: #434B5C;\n",
              "      box-shadow: 0px 1px 3px 1px rgba(0, 0, 0, 0.15);\n",
              "      filter: drop-shadow(0px 1px 2px rgba(0, 0, 0, 0.3));\n",
              "      fill: #FFFFFF;\n",
              "    }\n",
              "  </style>\n",
              "\n",
              "      <script>\n",
              "        const buttonEl =\n",
              "          document.querySelector('#df-f844c5fd-75c0-4ce8-a584-902cd131f061 button.colab-df-convert');\n",
              "        buttonEl.style.display =\n",
              "          google.colab.kernel.accessAllowed ? 'block' : 'none';\n",
              "\n",
              "        async function convertToInteractive(key) {\n",
              "          const element = document.querySelector('#df-f844c5fd-75c0-4ce8-a584-902cd131f061');\n",
              "          const dataTable =\n",
              "            await google.colab.kernel.invokeFunction('convertToInteractive',\n",
              "                                                     [key], {});\n",
              "          if (!dataTable) return;\n",
              "\n",
              "          const docLinkHtml = 'Like what you see? Visit the ' +\n",
              "            '<a target=\"_blank\" href=https://colab.research.google.com/notebooks/data_table.ipynb>data table notebook</a>'\n",
              "            + ' to learn more about interactive tables.';\n",
              "          element.innerHTML = '';\n",
              "          dataTable['output_type'] = 'display_data';\n",
              "          await google.colab.output.renderOutput(dataTable, element);\n",
              "          const docLink = document.createElement('div');\n",
              "          docLink.innerHTML = docLinkHtml;\n",
              "          element.appendChild(docLink);\n",
              "        }\n",
              "      </script>\n",
              "    </div>\n",
              "  </div>\n",
              "  "
            ]
          },
          "metadata": {},
          "execution_count": 111
        }
      ]
    },
    {
      "cell_type": "code",
      "source": [
        "# タグとジャンルデータを使って、ldaを学習する\n",
        "tag_genre_data = movies.tag_genre.tolist()"
      ],
      "metadata": {
        "id": "UnHskvmgJXSP"
      },
      "execution_count": 112,
      "outputs": []
    },
    {
      "cell_type": "code",
      "source": [],
      "metadata": {
        "id": "2NX249J5JXP0"
      },
      "execution_count": null,
      "outputs": []
    },
    {
      "cell_type": "code",
      "source": [],
      "metadata": {
        "id": "cqYytptRJXNj"
      },
      "execution_count": null,
      "outputs": []
    },
    {
      "cell_type": "code",
      "source": [],
      "metadata": {
        "id": "mUCWPywBJXLU"
      },
      "execution_count": null,
      "outputs": []
    },
    {
      "cell_type": "code",
      "source": [],
      "metadata": {
        "id": "6mPvVkroJXIo"
      },
      "execution_count": null,
      "outputs": []
    },
    {
      "cell_type": "code",
      "source": [],
      "metadata": {
        "id": "in65pIpwJXGh"
      },
      "execution_count": null,
      "outputs": []
    },
    {
      "cell_type": "code",
      "source": [],
      "metadata": {
        "id": "Q8NtX27mJXDy"
      },
      "execution_count": null,
      "outputs": []
    },
    {
      "cell_type": "code",
      "source": [],
      "metadata": {
        "id": "ndug2br_JXBa"
      },
      "execution_count": null,
      "outputs": []
    },
    {
      "cell_type": "code",
      "source": [],
      "metadata": {
        "id": "o8FXEPkCJW-5"
      },
      "execution_count": null,
      "outputs": []
    }
  ]
}